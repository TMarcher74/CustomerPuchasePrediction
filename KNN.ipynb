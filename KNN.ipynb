{
 "cells": [
  {
   "cell_type": "markdown",
   "id": "56be1e5a",
   "metadata": {},
   "source": [
    "# Step 1: Import Libraries"
   ]
  },
  {
   "cell_type": "code",
   "execution_count": 1,
   "id": "16febf3e",
   "metadata": {},
   "outputs": [],
   "source": [
    "import csv\n",
    "from sklearn.model_selection import train_test_split\n",
    "from sklearn.neighbors import KNeighborsClassifier\n",
    "from sklearn.metrics import classification_report, confusion_matrix, accuracy_score"
   ]
  },
  {
   "cell_type": "markdown",
   "id": "43aba44a",
   "metadata": {},
   "source": [
    "# Step 2: Define Constants and Helper Functions"
   ]
  },
  {
   "cell_type": "code",
   "execution_count": 2,
   "id": "d5d403d9",
   "metadata": {},
   "outputs": [],
   "source": [
    "TEST_SIZE = 0.2\n",
    "\n",
    "def load_data(filename):\n",
    "    evidence = []\n",
    "    labels = []\n",
    "\n",
    "    month_index = dict(Jan=0, Feb=1, Mar=2, Apr=3, May=4, June=5,\n",
    "                       Jul=6, Aug=7, Sep=8, Oct=9, Nov=10, Dec=11)\n",
    "\n",
    "    with open(filename) as f:\n",
    "        reader = csv.DictReader(f)\n",
    "\n",
    "        for row in reader:\n",
    "            evidence.append([\n",
    "                int(row[\"Administrative\"]),\n",
    "                float(row[\"Administrative_Duration\"]),\n",
    "                int(row[\"Informational\"]),\n",
    "                float(row[\"Informational_Duration\"]),\n",
    "                int(row[\"ProductRelated\"]),\n",
    "                float(row[\"ProductRelated_Duration\"]),\n",
    "                float(row[\"BounceRates\"]),\n",
    "                float(row[\"ExitRates\"]),\n",
    "                float(row[\"PageValues\"]),\n",
    "                float(row[\"SpecialDay\"]),\n",
    "                month_index[row[\"Month\"]],\n",
    "                int(row[\"OperatingSystems\"]),\n",
    "                int(row[\"Browser\"]),\n",
    "                int(row[\"Region\"]),\n",
    "                int(row[\"TrafficType\"]),\n",
    "                1 if row[\"VisitorType\"] == \"Returning_Visitor\" else 0,\n",
    "                1 if row[\"Weekend\"] == \"TRUE\" else 0,\n",
    "            ])\n",
    "\n",
    "            labels.append(1 if row[\"Revenue\"] == \"TRUE\" else 0)\n",
    "\n",
    "    return evidence, labels\n",
    "\n",
    "def train_model(evidence, labels):\n",
    "    model = KNeighborsClassifier(n_neighbors=1)\n",
    "    model.fit(evidence, labels)\n",
    "    return model\n",
    "\n",
    "def evaluate(labels, predictions):\n",
    "    t_positive = float(0)\n",
    "    t_negative = float(0)\n",
    "    sensitivity = float(0)\n",
    "    specificity = float(0)\n",
    "\n",
    "    for label, prediction in zip(labels, predictions):\n",
    "        if label == 0:\n",
    "            t_negative += 1\n",
    "            if label == prediction:\n",
    "                specificity += 1\n",
    "\n",
    "        if label == 1:\n",
    "            t_positive += 1\n",
    "            if label == prediction:\n",
    "                sensitivity += 1\n",
    "\n",
    "    sensitivity /= t_positive\n",
    "    specificity /= t_negative\n",
    "\n",
    "    return sensitivity, specificity\n"
   ]
  },
  {
   "cell_type": "markdown",
   "id": "b0bde510",
   "metadata": {},
   "source": [
    "# Step 3: Load Data\n"
   ]
  },
  {
   "cell_type": "code",
   "execution_count": 3,
   "id": "37d86aca",
   "metadata": {},
   "outputs": [],
   "source": [
    "# Replace 'Data/activity_data.csv' with the path to your CSV file\n",
    "filename = 'activity_data.csv'\n",
    "\n",
    "evidence, labels = load_data(filename)\n"
   ]
  },
  {
   "cell_type": "markdown",
   "id": "65e9e404",
   "metadata": {},
   "source": [
    "# Step 4: Split Data into Training and Testing Sets\n"
   ]
  },
  {
   "cell_type": "code",
   "execution_count": 4,
   "id": "1955181c",
   "metadata": {},
   "outputs": [],
   "source": [
    "X_train, X_test, y_train, y_test = train_test_split(evidence, labels, test_size=TEST_SIZE, random_state=44)"
   ]
  },
  {
   "cell_type": "markdown",
   "id": "41eefce9",
   "metadata": {},
   "source": [
    "# Step 5: Train the Model and Make Predictions\n"
   ]
  },
  {
   "cell_type": "code",
   "execution_count": 5,
   "id": "aba33c2e",
   "metadata": {},
   "outputs": [
    {
     "name": "stderr",
     "output_type": "stream",
     "text": [
      "c:\\Users\\Tarun T\\AppData\\Local\\Programs\\Python\\Python310\\lib\\site-packages\\joblib\\externals\\loky\\backend\\context.py:136: UserWarning: Could not find the number of physical cores for the following reason:\n",
      "found 0 physical cores < 1\n",
      "Returning the number of logical cores instead. You can silence this warning by setting LOKY_MAX_CPU_COUNT to the number of cores you want to use.\n",
      "  warnings.warn(\n",
      "  File \"c:\\Users\\Tarun T\\AppData\\Local\\Programs\\Python\\Python310\\lib\\site-packages\\joblib\\externals\\loky\\backend\\context.py\", line 282, in _count_physical_cores\n",
      "    raise ValueError(f\"found {cpu_count_physical} physical cores < 1\")\n"
     ]
    }
   ],
   "source": [
    "model = train_model(X_train, y_train)\n",
    "predictions = model.predict(X_test)\n",
    "sensitivity, specificity = evaluate(y_test, predictions)"
   ]
  },
  {
   "cell_type": "markdown",
   "id": "fb196ae4",
   "metadata": {},
   "source": [
    "# Step 6: Evaluate the Model\n"
   ]
  },
  {
   "cell_type": "code",
   "execution_count": 6,
   "id": "ab9b951e",
   "metadata": {},
   "outputs": [
    {
     "name": "stdout",
     "output_type": "stream",
     "text": [
      "Correct: 2064\n",
      "Incorrect: 402\n",
      "True Positive Rate: 43.22%\n",
      "True Negative Rate: 90.48%\n",
      "\n",
      "Classification Report\n",
      "\n",
      "              precision    recall  f1-score   support\n",
      "\n",
      "           0       0.90      0.90      0.90      2112\n",
      "           1       0.43      0.43      0.43       354\n",
      "\n",
      "    accuracy                           0.84      2466\n",
      "   macro avg       0.67      0.67      0.67      2466\n",
      "weighted avg       0.84      0.84      0.84      2466\n",
      "\n",
      "Accuracy :  83.69829683698296\n"
     ]
    }
   ],
   "source": [
    "print(f\"Correct: {(y_test == predictions).sum()}\")\n",
    "print(f\"Incorrect: {(y_test != predictions).sum()}\")\n",
    "print(f\"True Positive Rate: {100 * sensitivity:.2f}%\")\n",
    "print(f\"True Negative Rate: {100 * specificity:.2f}%\")\n",
    "\n",
    "print(\"\\nClassification Report\\n\")\n",
    "print(classification_report(y_test, predictions))\n",
    "print(\"Accuracy : \", accuracy_score(y_test, predictions) * 100)"
   ]
  },
  {
   "cell_type": "code",
   "execution_count": null,
   "id": "379ecbb7-514e-43be-86b9-20a0340e6235",
   "metadata": {},
   "outputs": [],
   "source": []
  }
 ],
 "metadata": {
  "kernelspec": {
   "display_name": "Python 3 (ipykernel)",
   "language": "python",
   "name": "python3"
  },
  "language_info": {
   "codemirror_mode": {
    "name": "ipython",
    "version": 3
   },
   "file_extension": ".py",
   "mimetype": "text/x-python",
   "name": "python",
   "nbconvert_exporter": "python",
   "pygments_lexer": "ipython3",
   "version": "3.10.2"
  }
 },
 "nbformat": 4,
 "nbformat_minor": 5
}
